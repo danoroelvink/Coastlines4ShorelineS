{
 "cells": [
  {
   "cell_type": "markdown",
   "id": "2b0c68db-fe09-425f-bbd2-56d77335d38c",
   "metadata": {},
   "source": [
    "# Extracting coastlines from Global Coastal Transect System GCTS and Satellite Derived Shorelines System SDSS\n",
    "\n",
    "Run the first few cells to load required functions and jump to the section you're interested in afterwards. "
   ]
  },
  {
   "cell_type": "code",
   "execution_count": null,
   "id": "5d2e6d5c-1563-46bf-880a-c0345bbfa528",
   "metadata": {},
   "outputs": [],
   "source": [
    "import sys\n",
    "\n",
    "# sys.path.insert(0, \"..\\src\")\n",
    "sys.path.insert(0, \"../src\")\n",
    "\n",
    "import dask\n",
    "# NOTE: query planning is not implemented in dask_geopandas yet, so we have to set \n",
    "# it to False before we do any dask_geopandas import \n",
    "dask.config.set({\"dataframe.query-planning\": False})\n",
    "\n",
    "from coastlines4shorelines.utils import transect_origins_to_coastline,retrieve_transects_by_roi,shoreline_intersections_to_coastline,filter_sp\n",
    "\n",
    "import logging\n",
    "import os\n",
    "import pathlib\n",
    "\n",
    "\n",
    "from dask.dataframe.utils import make_meta\n",
    "\n",
    "import dask_geopandas\n",
    "import duckdb\n",
    "import geopandas as gpd\n",
    "import hvplot.pandas\n",
    "import pandas as pd\n",
    "import pystac\n",
    "import shapely\n",
    "from dotenv import load_dotenv\n",
    "from ipyleaflet import Map, basemaps\n",
    "\n",
    "from coastmonitor.geo.geometries import geo_bbox\n",
    "\n",
    "load_dotenv(override=True)\n",
    "\n",
    "sas_token = os.getenv(\"AZURE_STORAGE_SAS_TOKEN\")\n",
    "account_name = os.getenv(\"AZURE_STORAGE_ACCOUNT_NAME\")\n",
    "storage_options = {\"account_name\": account_name, \"credential\": sas_token}\n",
    "\n",
    "logging.getLogger(\"azure\").setLevel(logging.WARNING)"
   ]
  },
  {
   "cell_type": "markdown",
   "id": "69d58238-05c3-40c8-b753-3901f649ea6b",
   "metadata": {},
   "source": [
    "## Load from STAC catalog\n",
    "\n",
    "Load the transects from our CoCliCo STAC catalog. "
   ]
  },
  {
   "cell_type": "code",
   "execution_count": null,
   "id": "1a2ec243-beaa-4493-9c94-4160246cc640",
   "metadata": {},
   "outputs": [],
   "source": [
    "coclico_catalog = pystac.Catalog.from_file(\n",
    "    \"https://coclico.blob.core.windows.net/stac/v1/catalog.json\"\n",
    ")"
   ]
  },
  {
   "cell_type": "code",
   "execution_count": null,
   "id": "9b379059-a299-4014-8948-91a7ae01aab2",
   "metadata": {},
   "outputs": [],
   "source": [
    "coclico_catalog"
   ]
  },
  {
   "cell_type": "code",
   "execution_count": null,
   "id": "7c085153-ad6c-40e1-a3ef-e52e803b1ef1",
   "metadata": {
    "tags": []
   },
   "outputs": [],
   "source": [
    "list(coclico_catalog.get_all_collections())"
   ]
  },
  {
   "cell_type": "code",
   "execution_count": null,
   "id": "3b13084c-06a8-4397-b173-ab4224c93a08",
   "metadata": {
    "tags": []
   },
   "outputs": [],
   "source": [
    "gcts = coclico_catalog.get_child(\"gcts\")\n",
    "gcts"
   ]
  },
  {
   "cell_type": "markdown",
   "id": "4e6d9172-b7d1-46ac-9d79-90377fe8941c",
   "metadata": {},
   "source": [
    "### Define a region of interest (ROI) based on a kml file"
   ]
  },
  {
   "cell_type": "code",
   "execution_count": null,
   "id": "b29a3263-200a-48cd-ba29-acd44d9ac142",
   "metadata": {},
   "outputs": [],
   "source": [
    "import fiona\n",
    "\n",
    "fiona.drvsupport.supported_drivers[\"KML\"] = \"rw\"\n",
    "kml_fp = pathlib.Path(r\"d:\\FHICS\\ShorelineS\\ROIs\\North_Carolina_Virginia.kml\")\n",
    "roi = gpd.read_file(kml_fp, driver=\"KML\")"
   ]
  },
  {
   "cell_type": "markdown",
   "id": "e88292fc",
   "metadata": {},
   "source": [
    "### Get all transects for this region of interest"
   ]
  },
  {
   "cell_type": "code",
   "execution_count": null,
   "id": "4a626ce0-dfe5-4976-b053-087c3015c152",
   "metadata": {},
   "outputs": [],
   "source": [
    "transects_roi = retrieve_transects_by_roi(roi, storage_options=storage_options)"
   ]
  },
  {
   "cell_type": "code",
   "execution_count": null,
   "id": "bb177195",
   "metadata": {},
   "outputs": [],
   "source": [
    "transects_roi.head()"
   ]
  },
  {
   "cell_type": "code",
   "execution_count": null,
   "id": "24d15fd0",
   "metadata": {},
   "outputs": [],
   "source": [
    "list(transects_roi)"
   ]
  },
  {
   "cell_type": "markdown",
   "id": "f1338631",
   "metadata": {},
   "source": [
    "### Apply transect_origins_to_coastline and explode to get one LineString per row"
   ]
  },
  {
   "cell_type": "code",
   "execution_count": null,
   "id": "74a56a71-defc-4b12-bd5c-c6aca0865575",
   "metadata": {},
   "outputs": [],
   "source": [
    "coastline = (\n",
    "    transects_roi.groupby(\"coastline_id\")\n",
    "    .apply(transect_origins_to_coastline)\n",
    "    .explode()\n",
    "    .reset_index(name=\"geometry\")\n",
    "    .drop(columns=[\"level_1\"])\n",
    ")\n",
    "coastline.head()"
   ]
  },
  {
   "cell_type": "code",
   "execution_count": null,
   "id": "053f2c2b",
   "metadata": {},
   "outputs": [],
   "source": [
    "coastline = gpd.GeoDataFrame(coastline, crs=4326)\n",
    "coastline = gpd.overlay(coastline, roi[[\"geometry\"]]).explode(index_parts=False)\n",
    "coastline.head()"
   ]
  },
  {
   "cell_type": "markdown",
   "id": "c96dba92",
   "metadata": {},
   "source": [
    "### Explore the ROI polygon and the cleaned up base coastline"
   ]
  },
  {
   "cell_type": "code",
   "execution_count": null,
   "id": "7ee162cb-7f9e-4e80-a01e-c39931830e78",
   "metadata": {},
   "outputs": [],
   "source": [
    "m = roi.explore()\n",
    "gpd.GeoDataFrame(coastline, crs=4326).explore(color=\"red\", m=m)"
   ]
  },
  {
   "cell_type": "markdown",
   "id": "7cbba49f",
   "metadata": {},
   "source": [
    "### Load ShorelineMonitor SDS series "
   ]
  },
  {
   "cell_type": "code",
   "execution_count": null,
   "id": "f4f60873-ab7e-4648-ab44-42b5f41f69e4",
   "metadata": {},
   "outputs": [],
   "source": [
    "sdss = dask_geopandas.read_parquet(\n",
    "    \"az://shorelinemonitor-raw-series/release/2024-04-15/sp_NC.parquet\",\n",
    "    storage_options=storage_options,\n",
    ").compute()\n",
    "sdss = sdss.assign(time=pd.to_datetime(sdss.time).dt.strftime(\"%Y-%m-%d\"))"
   ]
  },
  {
   "cell_type": "markdown",
   "id": "3202b02e",
   "metadata": {},
   "source": [
    "### Implement the filtering function to raw time series"
   ]
  },
  {
   "cell_type": "code",
   "execution_count": null,
   "id": "783cdf5c",
   "metadata": {},
   "outputs": [],
   "source": [
    "sdss_clean = filter_sp(sdss)\n",
    "list(sdss_clean)"
   ]
  },
  {
   "cell_type": "markdown",
   "id": "520d4f03",
   "metadata": {},
   "source": [
    "### Sort on transect name and extract transect name into coastline_id, segment_id and transect_id"
   ]
  },
  {
   "cell_type": "code",
   "execution_count": null,
   "id": "d653f303",
   "metadata": {},
   "outputs": [],
   "source": [
    "    sdss = sdss_clean.sort_values(\"tr_name\")\n",
    "    sdss[[\"coastline_id\", \"segment_id\", \"transect_id\"]] = (\n",
    "        sdss.tr_name.str.extract(r\"cl(\\d+)s(\\d+)tr(\\d+)\")\n",
    "    )\n",
    "    sdss = sdss.astype(\n",
    "        {\"coastline_id\": int, \"segment_id\": int, \"transect_id\": int}\n",
    "    )\n",
    "    sdss.head()"
   ]
  },
  {
   "cell_type": "markdown",
   "id": "b80c6c28",
   "metadata": {},
   "source": [
    "### Create subsets of sdss for 2010 and 2020"
   ]
  },
  {
   "cell_type": "code",
   "execution_count": null,
   "id": "f5a2775b",
   "metadata": {},
   "outputs": [],
   "source": [
    "import pandas as pd\n",
    "# Ensure your time column is in datetime format\n",
    "sdss['time'] = pd.to_datetime(sdss['time'])\n",
    "\n",
    "# Define the specific date\n",
    "specific_date = pd.Timestamp('2010-01-01')\n",
    "\n",
    "# Filter the GeoDataFrame\n",
    "sdss_2010 = sdss.loc[sdss['time'] == specific_date]\n",
    "m=sdss_2010.geometry.explore()"
   ]
  },
  {
   "cell_type": "code",
   "execution_count": null,
   "id": "80954e1b",
   "metadata": {},
   "outputs": [],
   "source": [
    "sdss_2010"
   ]
  },
  {
   "cell_type": "markdown",
   "id": "2235e4c6",
   "metadata": {},
   "source": [
    "### Try a merge of the OSM smoothed coastline and the points for specific years from sdss "
   ]
  },
  {
   "cell_type": "code",
   "execution_count": null,
   "id": "c8e86b91",
   "metadata": {},
   "outputs": [],
   "source": [
    "merge_2010=pd.merge(transects_roi[[\"tr_name\",\"lon\",\"lat\"]],sdss_2010,how=\"left\",on=\"tr_name\")"
   ]
  },
  {
   "cell_type": "code",
   "execution_count": null,
   "id": "bcfaaf0a",
   "metadata": {},
   "outputs": [],
   "source": [
    "c_2010=gpd.GeoDataFrame(merge_2010,geometry=gpd.GeoSeries.from_xy(merge_2010.lon_y,merge_2010.lat_y,crs=4326))\n",
    "c_2010=c_2010.rename(columns={\"lon_y\":\"lon\",\"lat_y\":\"lat\"})\n",
    "coast_2010 = shoreline_intersections_to_coastline(c_2010)\n",
    "coast_2010\n",
    "gpd.GeoDataFrame(geometry=coast_2010,crs=4326).explore()"
   ]
  },
  {
   "cell_type": "markdown",
   "id": "ed8ff0d1",
   "metadata": {},
   "source": [
    "### Show both datasets; notice they are points"
   ]
  },
  {
   "cell_type": "code",
   "execution_count": null,
   "id": "91dd10f6",
   "metadata": {},
   "outputs": [],
   "source": [
    "import pandas as pd\n",
    "# Ensure your time column is in datetime format\n",
    "sdss['time'] = pd.to_datetime(sdss['time'])\n",
    "\n",
    "# Define the specific date\n",
    "specific_date = pd.Timestamp('2020-01-01')\n",
    "\n",
    "# Filter the GeoDataFrame\n",
    "sdss_2020 = sdss.loc[sdss['time'] == specific_date]\n",
    "sdss_2020.geometry.explore(color=\"red\", m=m)"
   ]
  },
  {
   "cell_type": "code",
   "execution_count": null,
   "id": "1d628c65",
   "metadata": {},
   "outputs": [],
   "source": [
    "import pandas as pd\n",
    "# Ensure your time column is in datetime format\n",
    "sdss['time'] = pd.to_datetime(sdss['time'])\n",
    "\n",
    "# Define the specific date\n",
    "specific_date = pd.Timestamp('2022-01-01')\n",
    "\n",
    "# Filter the GeoDataFrame\n",
    "sdss_2022 = sdss.loc[sdss['time'] == specific_date]\n",
    "sdss_2022.geometry.explore(color=\"green\", m=m)"
   ]
  },
  {
   "cell_type": "code",
   "execution_count": null,
   "id": "1f6ec551",
   "metadata": {},
   "outputs": [],
   "source": [
    "#list(sdss_2010)"
   ]
  },
  {
   "cell_type": "markdown",
   "id": "6d464d4f",
   "metadata": {},
   "source": [
    "### Now connect the dots"
   ]
  },
  {
   "cell_type": "code",
   "execution_count": null,
   "id": "fb4c452a",
   "metadata": {},
   "outputs": [],
   "source": [
    "coastline_2010 = shoreline_intersections_to_coastline(sdss_2010)\n",
    "coastline_2020 = shoreline_intersections_to_coastline(sdss_2020)\n",
    "#list(coastline_2020)"
   ]
  },
  {
   "cell_type": "markdown",
   "id": "8b402b06",
   "metadata": {},
   "source": [
    "### Turn the LineStrings into a GeoDataFrame"
   ]
  },
  {
   "cell_type": "code",
   "execution_count": null,
   "id": "77dd2377",
   "metadata": {},
   "outputs": [],
   "source": [
    "coastline_2010 = gpd.GeoDataFrame(geometry=coastline_2010,crs=4326)\n",
    "coastline_2020 = gpd.GeoDataFrame(geometry=coastline_2020,crs=4326)"
   ]
  },
  {
   "cell_type": "markdown",
   "id": "7cc66d99",
   "metadata": {},
   "source": [
    "### Now explore both coastlines"
   ]
  },
  {
   "cell_type": "code",
   "execution_count": null,
   "id": "aa29c137",
   "metadata": {},
   "outputs": [],
   "source": [
    "m = coastline_2010.explore()\n",
    "coastline_2020.explore(color=\"red\", columnn=\"time\", m=m)"
   ]
  },
  {
   "cell_type": "code",
   "execution_count": null,
   "id": "cf4027f8",
   "metadata": {},
   "outputs": [],
   "source": []
  }
 ],
 "metadata": {
  "kernelspec": {
   "display_name": "Python 3 (ipykernel)",
   "language": "python",
   "name": "python3"
  },
  "language_info": {
   "codemirror_mode": {
    "name": "ipython",
    "version": 3
   },
   "file_extension": ".py",
   "mimetype": "text/x-python",
   "name": "python",
   "nbconvert_exporter": "python",
   "pygments_lexer": "ipython3",
   "version": "3.11.8"
  }
 },
 "nbformat": 4,
 "nbformat_minor": 5
}
