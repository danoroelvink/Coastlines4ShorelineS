{
 "cells": [
  {
   "cell_type": "markdown",
   "id": "0",
   "metadata": {},
   "source": [
    "# How to retrieve ShorelineMonitor SDS series for a region?\n",
    "\n",
    "## Instructions\n",
    "\n",
    "1. Use the DynamicMap: By default, the map is set to Namibia. Select your area of interest on the DynamicMap. After selecting the area, proceed to the next step to store the spatial extent in variables and retrieve the data from cloud storage. \n",
    "\n",
    "2. Optional: Create Visualization Panels: Run the subsequent cells to create dashboard app that shows the clean series with respect to the raw data. By default, these panels open in a new tab in the browser for stability. If the plot does not display correctly, refresh the tab several times (up to 10 times may be needed)."
   ]
  },
  {
   "cell_type": "code",
   "execution_count": null,
   "id": "1",
   "metadata": {},
   "outputs": [],
   "source": [
    "import sys\n",
    "\n",
    "import dask\n",
    "\n",
    "dask.config.set({\"dataframe.query-planning\": False})\n",
    "\n",
    "import logging\n",
    "import os\n",
    "import pathlib\n",
    "\n",
    "import coastpy\n",
    "import colorcet as cc\n",
    "import dask_geopandas\n",
    "import duckdb\n",
    "import geopandas as gpd\n",
    "import geoviews as gv\n",
    "import holoviews as hv\n",
    "import hvplot.pandas\n",
    "import numpy as np\n",
    "import pandas as pd\n",
    "import panel as pn\n",
    "import pystac\n",
    "import shapely\n",
    "from dotenv import load_dotenv\n",
    "\n",
    "from coastmonitor.shorelines.intersection import (\n",
    "    add_transect_statistics,\n",
    "    find_primary_signal_per_transect_group,\n",
    ")\n",
    "\n",
    "load_dotenv(override=True)\n",
    "\n",
    "# NOTE: access tokens to the data are available upon request.\n",
    "sas_token = os.getenv(\"AZURE_STORAGE_SAS_TOKEN\")\n",
    "account_name = \"coclico\"\n",
    "storage_options = {\"account_name\": account_name, \"credential\": sas_token}\n",
    "\n",
    "# These are the URL's to the STAC catalog that we can use to efficiently index the data\n",
    "COCLICO_STAC_URL = \"https://coclico.blob.core.windows.net/stac/v1/catalog.json\"\n",
    "\n",
    "# Global Coastal Transect System (publicly available and in review)\n",
    "GCTS_COLLECTION_NAME = \"gcts\"\n",
    "\n",
    "# Global Coastal Transect Repository (unreleased; access keys provided upon request). This dataset consists\n",
    "# of GCTS + several other characteristics, such as intersection distance to nearest coastline.\n",
    "GCTR_COLLECTION_NAME = \"gctr\"\n",
    "\n",
    "# ShorelineMonitor Raw Series (unreleased; access keys provided upon request). This dataset consists\n",
    "# ShorelineMonitor Shorlines that are mapped onto the Global Coastal Transect System (Raw Series) that\n",
    "# have a wide range of additional statistics used to filter out the primary, high-quality observations.\n",
    "SM_COLLECTION_NAME = \"shorelinemonitor-raw-series\"\n",
    "\n",
    "# These are the transect columns required for the analysis\n",
    "TRANSECT_COLUMNS = [\n",
    "    \"transect_id\",\n",
    "    \"lon\",\n",
    "    \"lat\",\n",
    "    \"bearing\",\n",
    "    \"geometry\",\n",
    "    \"osm_coastline_is_closed\",\n",
    "    \"osm_coastline_length\",\n",
    "    \"utm_epsg\",\n",
    "    \"bbox\",\n",
    "    \"quadkey\",\n",
    "    \"country\",\n",
    "    \"common_country_name\",\n",
    "    \"dist_b0\",\n",
    "    \"dist_b30\",\n",
    "    \"dist_b330\",\n",
    "]\n",
    "\n",
    "hv.extension(\"bokeh\")\n",
    "pn.extension()"
   ]
  },
  {
   "cell_type": "markdown",
   "id": "2",
   "metadata": {},
   "source": [
    "## Read the STAC collections"
   ]
  },
  {
   "cell_type": "code",
   "execution_count": null,
   "id": "3",
   "metadata": {},
   "outputs": [],
   "source": [
    "coclico_catalog = pystac.Catalog.from_file(COCLICO_STAC_URL)\n",
    "sm_collection = coclico_catalog.get_child(SM_COLLECTION_NAME)\n",
    "gcts_collection = coclico_catalog.get_child(GCTR_COLLECTION_NAME)"
   ]
  },
  {
   "cell_type": "markdown",
   "id": "4",
   "metadata": {},
   "source": [
    "## Show the spatial extents of both collections"
   ]
  },
  {
   "cell_type": "code",
   "execution_count": null,
   "id": "5",
   "metadata": {},
   "outputs": [],
   "source": [
    "sm_extents = coastpy.io.utils.read_items_extent(sm_collection, storage_options=storage_options)\n",
    "gcts_extents = coastpy.io.utils.read_items_extent(gcts_collection, storage_options=storage_options)\n",
    "sm_extents[[\"geometry\"]].explore()"
   ]
  },
  {
   "cell_type": "markdown",
   "id": "6",
   "metadata": {},
   "source": [
    "## Create a interactive map that we use to define our region of interest"
   ]
  },
  {
   "cell_type": "code",
   "execution_count": null,
   "id": "7",
   "metadata": {},
   "outputs": [],
   "source": [
    "from ipyleaflet import Map, basemaps\n",
    "\n",
    "m = Map(basemap=basemaps.Esri.WorldImagery, scroll_wheel_zoom=True)\n",
    "m.center = -22.946301, 14.410124\n",
    "m.zoom = 12\n",
    "m.layout.height = \"800px\"\n",
    "m"
   ]
  },
  {
   "cell_type": "code",
   "execution_count": null,
   "id": "8",
   "metadata": {},
   "outputs": [],
   "source": [
    "# NOTE: these coordiantes are extracted from the interactive map above\n",
    "minx, miny, maxx, maxy = m.west, m.south, m.east, m.north\n",
    "roi = gpd.GeoDataFrame(geometry=[shapely.box(minx, miny, maxx, maxy)], crs=4326)"
   ]
  },
  {
   "cell_type": "markdown",
   "id": "9",
   "metadata": {},
   "source": [
    "## Create a DuckDB query engine to retrieve data from cloud storage"
   ]
  },
  {
   "cell_type": "code",
   "execution_count": null,
   "id": "10",
   "metadata": {},
   "outputs": [],
   "source": [
    "from coastmonitor.shorelines.intersection import (\n",
    "    clean_raw_series,\n",
    "    compute_diffs,\n",
    "    compute_ols_trend,\n",
    ")\n",
    "\n",
    "sds_ts_engine = coastpy.io.STACQueryEngine(\n",
    "    stac_collection=sm_collection,\n",
    "    storage_backend=\"azure\",\n",
    ")\n",
    "sds_ts = sds_ts_engine.get_data_within_bbox(minx, miny, maxx, maxy)\n",
    "transects_engine = coastpy.io.STACQueryEngine(\n",
    "    stac_collection=gcts_collection, storage_backend=\"azure\", columns=TRANSECT_COLUMNS\n",
    ")\n",
    "transects = transects_engine.get_data_within_bbox(minx, miny, maxx, maxy)\n",
    "sds_ts_clean = clean_raw_series(\n",
    "    sds_ts,\n",
    "    transects,\n",
    "    method=\"offshore\",\n",
    "    multi_obs_threshold=17.5,\n",
    "    max_step_change=150,\n",
    "    relative_importance_threshold=0.6,\n",
    ")\n",
    "# filter out the primary observations to get cleaner data\n",
    "sds_ts_clean[sds_ts_clean[\"obs_is_primary\"]].head()"
   ]
  },
  {
   "cell_type": "markdown",
   "id": "11",
   "metadata": {},
   "source": [
    "### Optional: visualize the data in a small app"
   ]
  },
  {
   "cell_type": "code",
   "execution_count": null,
   "id": "12",
   "metadata": {},
   "outputs": [],
   "source": [
    "from coastmonitor.visualization.apptools import SpatialDataFrameApp\n",
    "\n",
    "sds_ts_clean_ac = compute_ols_trend(\n",
    "    sds_ts_clean[sds_ts_clean[\"obs_is_primary\"]],\n",
    "    transects,\n",
    "    x=\"time\",\n",
    "    y=\"shoreline_position\",\n",
    ")\n",
    "\n",
    "app = SpatialDataFrameApp(sds_ts_clean_ac, transects, sds_ts_clean)\n",
    "app.create_view()\n",
    "app.view.show()"
   ]
  },
  {
   "cell_type": "code",
   "execution_count": null,
   "id": "13",
   "metadata": {},
   "outputs": [],
   "source": []
  }
 ],
 "metadata": {
  "kernelspec": {
   "display_name": "Python [conda env:coastal] *",
   "language": "python",
   "name": "conda-env-coastal-py"
  },
  "language_info": {
   "codemirror_mode": {
    "name": "ipython",
    "version": 3
   },
   "file_extension": ".py",
   "mimetype": "text/x-python",
   "name": "python",
   "nbconvert_exporter": "python",
   "pygments_lexer": "ipython3",
   "version": "3.12.4"
  }
 },
 "nbformat": 4,
 "nbformat_minor": 5
}
