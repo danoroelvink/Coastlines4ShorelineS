{
 "cells": [
  {
   "cell_type": "markdown",
   "id": "2b0c68db-fe09-425f-bbd2-56d77335d38c",
   "metadata": {},
   "source": [
    "# Examples how to work with Global Coastal Transect System \n",
    "\n",
    "Run the first few cells to load required functions and jump to the section you're interested in afterwards. "
   ]
  },
  {
   "cell_type": "code",
   "execution_count": null,
   "id": "5d2e6d5c-1563-46bf-880a-c0345bbfa528",
   "metadata": {},
   "outputs": [],
   "source": [
    "import sys\n",
    "\n",
    "# sys.path.insert(0, \"..\\src\")\n",
    "sys.path.insert(0, \"../src\")\n",
    "\n",
    "import dask\n",
    "# NOTE: query planning is not implemented in dask_geopandas yet, so we have to set \n",
    "# it to False before we do any dask_geopandas import \n",
    "dask.config.set({\"dataframe.query-planning\": False})\n",
    "\n",
    "from coastlines4shorelines.utils import transect_origins_to_coastline,retrieve_transects_by_roi\n",
    "\n",
    "import logging\n",
    "import os\n",
    "import pathlib\n",
    "\n",
    "\n",
    "from dask.dataframe.utils import make_meta\n",
    "\n",
    "import dask_geopandas\n",
    "import duckdb\n",
    "import geopandas as gpd\n",
    "import hvplot.pandas\n",
    "import pandas as pd\n",
    "import pystac\n",
    "import shapely\n",
    "from dotenv import load_dotenv\n",
    "from ipyleaflet import Map, basemaps\n",
    "\n",
    "from coastmonitor.geo.geometries import geo_bbox\n",
    "\n",
    "load_dotenv(override=True)\n",
    "\n",
    "sas_token = os.getenv(\"AZURE_STORAGE_SAS_TOKEN\")\n",
    "account_name = os.getenv(\"AZURE_STORAGE_ACCOUNT_NAME\")\n",
    "storage_options = {\"account_name\": account_name, \"credential\": sas_token}\n",
    "\n",
    "logging.getLogger(\"azure\").setLevel(logging.WARNING)"
   ]
  },
  {
   "cell_type": "markdown",
   "id": "69d58238-05c3-40c8-b753-3901f649ea6b",
   "metadata": {},
   "source": [
    "## Load from STAC catalog\n",
    "\n",
    "Load the transects from our CoCliCo STAC catalog. "
   ]
  },
  {
   "cell_type": "code",
   "execution_count": null,
   "id": "1a2ec243-beaa-4493-9c94-4160246cc640",
   "metadata": {},
   "outputs": [],
   "source": [
    "coclico_catalog = pystac.Catalog.from_file(\n",
    "    \"https://coclico.blob.core.windows.net/stac/v1/catalog.json\"\n",
    ")"
   ]
  },
  {
   "cell_type": "code",
   "execution_count": null,
   "id": "9b379059-a299-4014-8948-91a7ae01aab2",
   "metadata": {},
   "outputs": [],
   "source": [
    "coclico_catalog"
   ]
  },
  {
   "cell_type": "code",
   "execution_count": null,
   "id": "7c085153-ad6c-40e1-a3ef-e52e803b1ef1",
   "metadata": {
    "tags": []
   },
   "outputs": [],
   "source": [
    "list(coclico_catalog.get_all_collections())"
   ]
  },
  {
   "cell_type": "code",
   "execution_count": null,
   "id": "3b13084c-06a8-4397-b173-ab4224c93a08",
   "metadata": {
    "tags": []
   },
   "outputs": [],
   "source": [
    "gcts = coclico_catalog.get_child(\"gcts\")\n",
    "gcts"
   ]
  },
  {
   "cell_type": "markdown",
   "id": "7daeb662",
   "metadata": {},
   "source": [
    "### Use a dynamic map to extract data by region of interest\n",
    "\n",
    "The IPyleaflet map below can be used to find the bbox coordinates of a certain region.\n",
    "Zoom to the area where you want to extract data and run the next cell. Please keep in\n",
    "mind to wait 1 second because the map has to be rendered before the coordinates can be\n",
    "extracted. "
   ]
  },
  {
   "cell_type": "code",
   "execution_count": null,
   "id": "51e12c5b-27a3-4a0c-8ad9-0e92c427d7c8",
   "metadata": {
    "tags": []
   },
   "outputs": [],
   "source": [
    "m = Map(basemap=basemaps.Esri.WorldImagery, scroll_wheel_zoom=True)\n",
    "m.center = 41.735966575868716, -70.10032653808595\n",
    "m.zoom = 9\n",
    "m.layout.height = \"800px\"\n",
    "m"
   ]
  },
  {
   "cell_type": "markdown",
   "id": "8cbcbc04-d50b-4d1e-88d3-c94a4948b2cc",
   "metadata": {},
   "source": [
    "## IMPORTANT NOTE: Wait for the map to render before you run the next cell\n",
    "\n",
    "rendering the map takes a second, so you need to pause 1 second before running the next cell otherwise you cannot parse the north/west/east/south bounds"
   ]
  },
  {
   "cell_type": "code",
   "execution_count": null,
   "id": "5085cbb9-95f1-4a1f-9ea5-fe5ec79e9365",
   "metadata": {
    "tags": []
   },
   "outputs": [],
   "source": [
    "# this makes a GeoPandas dataframe from the DynamicMap that is rendered above\n",
    "roi = geo_bbox(m.west, m.south, m.east, m.north)"
   ]
  },
  {
   "cell_type": "code",
   "execution_count": null,
   "id": "2c64c44d-5b7a-483c-b679-8ab75d9a7049",
   "metadata": {
    "tags": []
   },
   "outputs": [],
   "source": [
    "# makes a list of all items (data partitions) in the GCTS STAC catalog\n",
    "items = list(gcts.get_all_items())"
   ]
  },
  {
   "cell_type": "markdown",
   "id": "bd90664c-7b47-467b-8699-774033fb6481",
   "metadata": {},
   "source": [
    "## The dataset is partitioned into geospatial chunks\n",
    "\n",
    "The dataset is divided into different chunks, that each span a different region of the world. In the next cell\n",
    "we read the spatial extends of each chunk and compose that into a GeoDataFrame"
   ]
  },
  {
   "cell_type": "code",
   "execution_count": null,
   "id": "5c951272-54e6-4794-bb26-9fd1adbe5aeb",
   "metadata": {
    "tags": []
   },
   "outputs": [],
   "source": [
    "bboxes = pd.concat([geo_bbox(*i.to_dict()[\"bbox\"]) for i in items])\n",
    "bboxes = bboxes.reset_index(drop=True)\n",
    "bboxes.explore()"
   ]
  },
  {
   "cell_type": "markdown",
   "id": "67ea0f0b-02c6-4260-8b0d-91f5f15b7b52",
   "metadata": {},
   "source": [
    "## Now we can find the bboxes that cover our region of interest"
   ]
  },
  {
   "cell_type": "code",
   "execution_count": null,
   "id": "97d8fd11-20a9-4b85-b567-b26c02363631",
   "metadata": {
    "tags": []
   },
   "outputs": [],
   "source": [
    "bboxes_roi = gpd.sjoin(bboxes, roi)[bboxes.columns]\n",
    "items_roi = [items[i] for i in bboxes_roi.index]"
   ]
  },
  {
   "cell_type": "code",
   "execution_count": null,
   "id": "2ab621b4-54e0-4cfd-8a26-0a7c47074cde",
   "metadata": {
    "tags": []
   },
   "outputs": [],
   "source": [
    "items_roi"
   ]
  },
  {
   "cell_type": "code",
   "execution_count": null,
   "id": "7565af5c-e2d2-4958-b7ae-6a68be2d1b85",
   "metadata": {
    "tags": []
   },
   "outputs": [],
   "source": [
    "items_roi[0]"
   ]
  },
  {
   "cell_type": "markdown",
   "id": "cb013d49-f2c8-4c98-ba73-54df72e3b526",
   "metadata": {},
   "source": [
    "## The STAC items contain references to where the data is stored"
   ]
  },
  {
   "cell_type": "code",
   "execution_count": null,
   "id": "1b4db663-c2db-4696-8e46-d0222212b32b",
   "metadata": {
    "tags": []
   },
   "outputs": [],
   "source": [
    "hrefs = [i.assets[\"data\"].href for i in items_roi]"
   ]
  },
  {
   "cell_type": "markdown",
   "id": "ecd7af9a-a990-41ae-b67b-6de0e372d154",
   "metadata": {},
   "source": [
    "## Cloud based data\n",
    "\n",
    "The href that you see below is a url to a cloud bucket with the transects for the area of interest. The prefix \"az://\" is the protocol for Azure cloud storage."
   ]
  },
  {
   "cell_type": "code",
   "execution_count": null,
   "id": "90d9e953-42df-45b5-ab7f-c77693de90c7",
   "metadata": {
    "tags": []
   },
   "outputs": [],
   "source": [
    "hrefs"
   ]
  },
  {
   "cell_type": "markdown",
   "id": "2aa22417-2ec9-4c07-a1b5-1147f6cdb510",
   "metadata": {},
   "source": [
    "## Reading the transect partitions that span our region of interest \n",
    "\n",
    "We will read the data from cloud storage - but only the data that spans our region of interest (the DynamicMap above). "
   ]
  },
  {
   "cell_type": "markdown",
   "id": "cc39ba52-02d0-4644-8f7d-99d0137d033f",
   "metadata": {},
   "source": [
    "## Dask dataframes are lazy\n",
    "\n",
    "These dataframes are not in memory yet. We still have to trigger the compute (see cell below)"
   ]
  },
  {
   "cell_type": "code",
   "execution_count": null,
   "id": "b8e12b6b-1dc3-4dad-8775-dddcdffd19d0",
   "metadata": {
    "tags": []
   },
   "outputs": [],
   "source": [
    "dask_geopandas.read_parquet(hrefs, storage_options=storage_options).sjoin"
   ]
  },
  {
   "cell_type": "markdown",
   "id": "80a4ea84-3da7-4229-8f33-a270626affeb",
   "metadata": {},
   "source": [
    "## Compute the transects that span our region of interest\n",
    "\n",
    "The transects are not in memory yet. In the next cell we will trigger the retrieval from cloud storage to local client by doing a `ddf.compute()` call. "
   ]
  },
  {
   "cell_type": "code",
   "execution_count": null,
   "id": "434f8495",
   "metadata": {},
   "outputs": [],
   "source": [
    "transects = dask_geopandas.read_parquet(hrefs, storage_options=storage_options)\n",
    "transects_roi = (\n",
    "    transects.sjoin(roi.to_crs(transects.crs)).drop(columns=[\"index_right\"]).compute()\n",
    ")"
   ]
  },
  {
   "cell_type": "code",
   "execution_count": null,
   "id": "516ba2a9-3f79-4d02-8a3d-fcf62b2bccf1",
   "metadata": {
    "tags": []
   },
   "outputs": [],
   "source": [
    "%%time\n",
    "\n",
    "transects = dask_geopandas.read_parquet(hrefs, storage_options=storage_options)\n",
    "transects_roi = (\n",
    "    transects.sjoin(roi.to_crs(transects.crs)).drop(columns=[\"index_right\"]).compute()\n",
    ")\n",
    "\n",
    "unique_coastline_names = list(\n",
    "    map(str, transects_roi.tr_name.str.extract(r\"(cl\\d+s\\d+)\")[0].unique())\n",
    ")\n",
    "\n",
    "\n",
    "def add_coastline_name(df):\n",
    "    df[\"coastline_name\"] = df.tr_name.str.extract(r\"(cl\\d+s\\d+)\")\n",
    "    return df\n",
    "\n",
    "\n",
    "meta = make_meta(transects)\n",
    "new_col_meta = pd.DataFrame({\"coastline_name\": pd.Series([], dtype=str)})\n",
    "meta = pd.concat([meta, new_col_meta])\n",
    "\n",
    "transects = transects.map_partitions(add_coastline_name, meta=meta)\n",
    "transects_roi = transects.loc[\n",
    "    transects[\"coastline_name\"].isin(unique_coastline_names)\n",
    "].compute()\n",
    "\n",
    "transects_roi = transects_roi.sort_values(\"tr_name\")\n",
    "transects_roi[[\"coastline_id\", \"segment_id\", \"transect_id\"]] = (\n",
    "    transects_roi.tr_name.str.extract(r\"cl(\\d+)s(\\d+)tr(\\d+)\")\n",
    ")\n",
    "transects_roi = transects_roi.astype(\n",
    "    {\"coastline_id\": int, \"segment_id\": int, \"transect_id\": int}\n",
    ")\n",
    "transects_roi.head()"
   ]
  },
  {
   "cell_type": "markdown",
   "id": "fc78983e-4537-4ffe-a704-4b150e8331bf",
   "metadata": {},
   "source": [
    "## Put everything together in one function that retrieves the transects per area of interest\n",
    "\n",
    "This function below contains everything we have discussed so far. It loads transects that having matching coastlines from a STAC catalog into Python memory for a given area of interest. "
   ]
  },
  {
   "cell_type": "code",
   "execution_count": null,
   "id": "561193e0-1e7a-4f47-93e4-694ce4088457",
   "metadata": {},
   "outputs": [],
   "source": [
    "%%time\n",
    "\n",
    "transects_roi = retrieve_transects_by_roi(roi, storage_options=storage_options)"
   ]
  },
  {
   "cell_type": "markdown",
   "id": "c53a0902-867a-42a7-b144-7765e7a7e604",
   "metadata": {},
   "source": [
    "## Sorting the transects\n",
    "\n",
    "Currently the transects are stored by QuadKey to optimize fast read access by filter pushdown. If we want them sorted by the coastline we can do that as follows. "
   ]
  },
  {
   "cell_type": "markdown",
   "id": "00bd9635-e0b2-4288-a0fe-eaede7cab9a9",
   "metadata": {},
   "source": [
    "## Compose the transect origins into coastlines"
   ]
  },
  {
   "cell_type": "code",
   "execution_count": null,
   "id": "0674b37d-d9ee-4814-b576-59f4bb98691d",
   "metadata": {},
   "outputs": [],
   "source": [
    "coastline = (\n",
    "    transects_roi.groupby(\"coastline_id\")\n",
    "    .apply(transect_origins_to_coastline)\n",
    "    .dropna()\n",
    "    .reset_index()\n",
    "    .rename(columns={0: \"geometry\"})\n",
    ")\n",
    "coastline = gpd.GeoDataFrame(coastline, crs=4326)"
   ]
  },
  {
   "cell_type": "code",
   "execution_count": null,
   "id": "c6421aee",
   "metadata": {},
   "outputs": [],
   "source": []
  },
  {
   "cell_type": "code",
   "execution_count": null,
   "id": "6fa6c246",
   "metadata": {},
   "outputs": [],
   "source": [
    "tratransects_roi.groupby(\"coastline_id\").get_group(13508)"
   ]
  },
  {
   "cell_type": "code",
   "execution_count": null,
   "id": "9a8df83a-cf26-4e8e-9f08-5d779ec52eed",
   "metadata": {},
   "outputs": [],
   "source": [
    "coastline.explore(column=\"coastline_id\")"
   ]
  },
  {
   "cell_type": "markdown",
   "id": "4e6d9172-b7d1-46ac-9d79-90377fe8941c",
   "metadata": {},
   "source": [
    "## Plus we can handle region of interests that do not span all coastlines"
   ]
  },
  {
   "cell_type": "code",
   "execution_count": null,
   "id": "b29a3263-200a-48cd-ba29-acd44d9ac142",
   "metadata": {},
   "outputs": [],
   "source": [
    "import fiona\n",
    "\n",
    "fiona.drvsupport.supported_drivers[\"KML\"] = \"rw\"\n",
    "kml_fp = pathlib.Path(r\"d:\\FHICS\\ShorelineS\\ROIs\\North_Carolina_Virginia.kml\")\n",
    "roi = gpd.read_file(kml_fp, driver=\"KML\")"
   ]
  },
  {
   "cell_type": "code",
   "execution_count": null,
   "id": "4a626ce0-dfe5-4976-b053-087c3015c152",
   "metadata": {},
   "outputs": [],
   "source": [
    "transects_roi = retrieve_transects_by_roi(roi, storage_options=storage_options)"
   ]
  },
  {
   "cell_type": "code",
   "execution_count": null,
   "id": "74a56a71-defc-4b12-bd5c-c6aca0865575",
   "metadata": {},
   "outputs": [],
   "source": [
    "# Apply function and explode to get one LineString per row\n",
    "coastline = (\n",
    "    transects_roi.groupby(\"coastline_id\")\n",
    "    .apply(transect_origins_to_coastline)\n",
    "    .explode()\n",
    "    .reset_index(name=\"geometry\")\n",
    "    .drop(columns=[\"level_1\"])\n",
    ")\n",
    "coastline = gpd.GeoDataFrame(coastline, crs=4326)\n",
    "coastline = gpd.overlay(coastline, roi[[\"geometry\"]]).explode(index_parts=False)"
   ]
  },
  {
   "cell_type": "code",
   "execution_count": null,
   "id": "7ee162cb-7f9e-4e80-a01e-c39931830e78",
   "metadata": {},
   "outputs": [],
   "source": [
    "m = roi.explore()\n",
    "gpd.GeoDataFrame(coastline, crs=4326).explore(color=\"red\", m=m)"
   ]
  },
  {
   "cell_type": "markdown",
   "id": "7cbba49f",
   "metadata": {},
   "source": [
    "## Load ShorelineMonitor SDS series "
   ]
  },
  {
   "cell_type": "code",
   "execution_count": null,
   "id": "f4f60873-ab7e-4648-ab44-42b5f41f69e4",
   "metadata": {},
   "outputs": [],
   "source": [
    "sdss = dask_geopandas.read_parquet(\n",
    "    \"az://shorelinemonitor-raw-series/release/2024-04-15/sp_NC.parquet\",\n",
    "    storage_options=storage_options,\n",
    ").compute()\n",
    "sdss = sdss.assign(time=pd.to_datetime(sdss.time).dt.strftime(\"%Y-%m-%d\"))"
   ]
  },
  {
   "cell_type": "code",
   "execution_count": null,
   "id": "c3964732",
   "metadata": {},
   "outputs": [],
   "source": [
    "sdss.head()"
   ]
  },
  {
   "cell_type": "code",
   "execution_count": null,
   "id": "91dd10f6",
   "metadata": {},
   "outputs": [],
   "source": [
    "coords = gpd.GeoSeries.from_xy(\n",
    "      sdss[\"lon\"], sdss[\"lat\"]\n",
    "            ).to_list()\n",
    "cl = gpd.GeoDataFrame(coords)\n",
    "cl.explore()"
   ]
  },
  {
   "cell_type": "code",
   "execution_count": null,
   "id": "aa29c137",
   "metadata": {},
   "outputs": [],
   "source": [
    "## Sample to explore data"
   ]
  },
  {
   "cell_type": "code",
   "execution_count": null,
   "id": "5e6d7f7a",
   "metadata": {},
   "outputs": [],
   "source": [
    "import numpy as np\n",
    "\n",
    "transect_sample = np.random.choice(sdss.tr_name.unique())"
   ]
  },
  {
   "cell_type": "code",
   "execution_count": null,
   "id": "417fbc7c",
   "metadata": {},
   "outputs": [],
   "source": [
    "sdss.loc[sdss[\"tr_name\"] == transect_sample][[\"geometry\", \"time\"]].explore(\n",
    "    column=\"time\"\n",
    ")"
   ]
  },
  {
   "cell_type": "code",
   "execution_count": null,
   "id": "57743e71",
   "metadata": {},
   "outputs": [],
   "source": [
    "def filter_sp(sp_raw):\n",
    "    \"\"\"\n",
    "    Function to filter shorelines with specified filtering indicator.\n",
    "    \"\"\"\n",
    "\n",
    "    # set up the indicators\n",
    "    # `sp_clean` will include only shoreline positions that satisfy the indicators\n",
    "    sp_clean = sp_raw[\n",
    "        (sp_raw.sh_sinuosity < 10)\n",
    "        & (~sp_raw.obs_on_shoal)\n",
    "        & (sp_raw.obs_is_primary)\n",
    "        & (sp_raw.tr_is_qa)\n",
    "        & (sp_raw.mdn_offset < 3 * sp_raw.tr_stdev)\n",
    "        & (sp_raw.obs_count >= 5)\n",
    "        & (~sp_raw.obs_is_outlier)\n",
    "    ].copy()\n",
    "\n",
    "    # set up the `sp_clean` table\n",
    "    sp_clean = (\n",
    "        sp_clean[\n",
    "            [\"time\", \"tr_name\", \"shoreline_position_trans\", \"geometry\"]\n",
    "        ]  # columns to be included in the clean tables\n",
    "        .rename(columns=({\"shoreline_position_trans\": \"shoreline_position\"}))\n",
    "        .reset_index(drop=True)\n",
    "    )\n",
    "\n",
    "    return sp_clean\n",
    "\n",
    "\n",
    "# Implement the filtering function to raw time series (`sp`)\n",
    "sdss_clean = filter_sp(sdss)"
   ]
  },
  {
   "cell_type": "markdown",
   "id": "1119c8e2",
   "metadata": {},
   "source": [
    "## Function to construct shoreline from SDS series"
   ]
  },
  {
   "cell_type": "code",
   "execution_count": null,
   "id": "eba1217e",
   "metadata": {},
   "outputs": [],
   "source": [
    "def shoreline_intersections_to_coastline(df):\n",
    "    # Ensure df is sorted if not already\n",
    "    df = df.sort_values(by=[\"tr_name\", \"segment_id\", \"transect_id\"])\n",
    "\n",
    "    # Identify partitions by checking where the difference in transect_id is not 100\n",
    "    # diff() is NaN for the first row, so we use fillna() to set it to a value that does not equal 100 (e.g., 0)\n",
    "    df[\"partition\"] = (df[\"transect_id\"].diff().fillna(0) != 100).cumsum()\n",
    "\n",
    "    lines = []\n",
    "    for _, partition_df in df.groupby(\"partition\"):\n",
    "        if len(partition_df) > 1:\n",
    "            coords = gpd.GeoSeries.from_xy(\n",
    "                partition_df[\"lon\"], partition_df[\"lat\"]\n",
    "            ).to_list()\n",
    "\n",
    "            # Check if the coastline is closed and this is the only partition\n",
    "            if (\n",
    "                partition_df.coastline_is_closed.iloc[0]\n",
    "                and len(df[\"partition\"].unique()) == 1\n",
    "            ):\n",
    "                coords.append(\n",
    "                    coords[0]\n",
    "                )  # Add the first point at the end to close the loop\n",
    "\n",
    "            lines.append(LineString(coords))\n",
    "        # Else case can be added if needed to handle single-point partitions\n",
    "\n",
    "    return pd.Series(lines)\n"
   ]
  },
  {
   "cell_type": "code",
   "execution_count": null,
   "id": "1ef1cc6f-9958-4ca6-a9c1-9f57ef78bdbb",
   "metadata": {},
   "outputs": [],
   "source": [
    "sdss.head()"
   ]
  },
  {
   "cell_type": "code",
   "execution_count": null,
   "id": "c96be572-adad-4f70-839b-9d3eb95f7cf4",
   "metadata": {},
   "outputs": [],
   "source": [
    "import numpy as np\n",
    "\n",
    "transect_sample = np.random.choice(sdss.tr_name.unique())"
   ]
  },
  {
   "cell_type": "code",
   "execution_count": null,
   "id": "54044766-6474-4995-896c-3d25fa2ce9a0",
   "metadata": {},
   "outputs": [],
   "source": [
    "sdss.loc[sdss[\"tr_name\"] == transect_sample][[\"geometry\", \"time\"]].explore(\n",
    "    column=\"time\"\n",
    ")"
   ]
  },
  {
   "cell_type": "code",
   "execution_count": null,
   "id": "06acccc3",
   "metadata": {},
   "outputs": [],
   "source": []
  },
  {
   "cell_type": "code",
   "execution_count": null,
   "id": "449b21b6",
   "metadata": {},
   "outputs": [],
   "source": []
  },
  {
   "cell_type": "code",
   "execution_count": null,
   "id": "85f2d017",
   "metadata": {},
   "outputs": [],
   "source": []
  }
 ],
 "metadata": {
  "kernelspec": {
   "display_name": "Python 3 (ipykernel)",
   "language": "python",
   "name": "python3"
  },
  "language_info": {
   "codemirror_mode": {
    "name": "ipython",
    "version": 3
   },
   "file_extension": ".py",
   "mimetype": "text/x-python",
   "name": "python",
   "nbconvert_exporter": "python",
   "pygments_lexer": "ipython3",
   "version": "3.11.8"
  }
 },
 "nbformat": 4,
 "nbformat_minor": 5
}
